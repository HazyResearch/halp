{
 "cells": [
  {
   "cell_type": "markdown",
   "metadata": {},
   "source": [
    "[resnet fine tune last layer](http://localhost:1236/notebooks/ResNet_initial_plots_for_JMLR_fine_tune_dec_7.ipynb)"
   ]
  },
  {
   "cell_type": "markdown",
   "metadata": {},
   "source": [
    "[resnet half classes last layer](http://localhost:1236/notebooks/ResNet_initial_plots_for_JMLR_resnet_weight_loading_half_classes_odd_fine_tune_dec_11_fp_lp_gap.ipynb)"
   ]
  },
  {
   "cell_type": "markdown",
   "metadata": {},
   "source": [
    "[resnet full mode fine tuning](http://localhost:1236/notebooks/ResNet_initial_plots_for_JMLR_resnet_full_model_fine_tune.ipynb)"
   ]
  },
  {
   "cell_type": "markdown",
   "metadata": {},
   "source": [
    "[LSTM treebank parameter sweep](http://localhost:1236/notebooks/LSTM_initial_plots_for_JMLR_treebank.ipynb)"
   ]
  },
  {
   "cell_type": "markdown",
   "metadata": {},
   "source": [
    "[LSTM conll2000 paramter sweep](http://localhost:1236/notebooks/LSTM_initial_plots_for_JMLR_conll2000.ipynb)"
   ]
  },
  {
   "cell_type": "code",
   "execution_count": null,
   "metadata": {},
   "outputs": [],
   "source": []
  }
 ],
 "metadata": {
  "kernelspec": {
   "display_name": "Python 3",
   "language": "python",
   "name": "python3"
  },
  "language_info": {
   "codemirror_mode": {
    "name": "ipython",
    "version": 3
   },
   "file_extension": ".py",
   "mimetype": "text/x-python",
   "name": "python",
   "nbconvert_exporter": "python",
   "pygments_lexer": "ipython3",
   "version": "3.7.0"
  }
 },
 "nbformat": 4,
 "nbformat_minor": 2
}

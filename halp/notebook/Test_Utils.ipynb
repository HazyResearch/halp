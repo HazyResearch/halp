{
 "cells": [
  {
   "cell_type": "code",
   "execution_count": 18,
   "metadata": {},
   "outputs": [
    {
     "name": "stdout",
     "output_type": "stream",
     "text": [
      "The autoreload extension is already loaded. To reload it, use:\n",
      "  %reload_ext autoreload\n"
     ]
    }
   ],
   "source": [
    "%load_ext autoreload\n",
    "%autoreload 2\n",
    "import sys\n",
    "sys.path.append(\"../utils/\")\n",
    "from res_processing_utils import get_ave_metric"
   ]
  },
  {
   "cell_type": "code",
   "execution_count": 19,
   "metadata": {},
   "outputs": [],
   "source": [
    "top_directory = \"/dfs/scratch0/zjian/floating_halp/exp_res/lenet_hyper_sweep_2018_nov_13/\"\n",
    "pattern = \"opt_sgd_momentum_0.0_lr_0.01_l2_reg_0.0005_\"\n",
    "train_loss = get_ave_metric(pattern, top_directory, seed_list=[1,2,3], metric=\"train_loss\")\n",
    "test_loss = get_ave_metric(pattern, top_directory, seed_list=[1,2,3], metric=\"test_loss\")\n",
    "test_acc = get_ave_metric(pattern, top_directory, seed_list=[1,2,3], metric=\"test_acc\")\n",
    "grad_norm = get_ave_metric(pattern, top_directory, seed_list=[1,2,3], metric=\"grad_norm\")"
   ]
  },
  {
   "cell_type": "code",
   "execution_count": 20,
   "metadata": {},
   "outputs": [
    {
     "data": {
      "text/plain": [
       "((39100,), (100,), (100,), (39100,))"
      ]
     },
     "execution_count": 20,
     "metadata": {},
     "output_type": "execute_result"
    }
   ],
   "source": [
    "train_loss.shape, test_loss.shape, test_acc.shape, grad_norm.shape"
   ]
  },
  {
   "cell_type": "code",
   "execution_count": 21,
   "metadata": {},
   "outputs": [
    {
     "data": {
      "text/plain": [
       "(0.2675636311372121, 1.4958689574400583, 0.6204333333333333, 4.820598008616545)"
      ]
     },
     "execution_count": 21,
     "metadata": {},
     "output_type": "execute_result"
    }
   ],
   "source": [
    "train_loss[-1], test_loss[-1], test_acc[-1], grad_norm[-1]"
   ]
  },
  {
   "cell_type": "code",
   "execution_count": 13,
   "metadata": {},
   "outputs": [
    {
     "ename": "SyntaxError",
     "evalue": "invalid syntax (<ipython-input-13-fa902ad45e98>, line 1)",
     "output_type": "error",
     "traceback": [
      "\u001b[0;36m  File \u001b[0;32m\"<ipython-input-13-fa902ad45e98>\"\u001b[0;36m, line \u001b[0;32m1\u001b[0m\n\u001b[0;31m    INFO:root:train loss epoch: 99 iter: 390 loss:0.3137069344520569 grad_norm: 5.4768581387959685 acc: 0.9\u001b[0m\n\u001b[0m             ^\u001b[0m\n\u001b[0;31mSyntaxError\u001b[0m\u001b[0;31m:\u001b[0m invalid syntax\n"
     ]
    }
   ],
   "source": [
    "INFO:root:train loss epoch: 99 iter: 390 loss:0.3137069344520569 grad_norm: 5.4768581387959685 acc: 0.9\n",
    "INFO:root:Test metric acc: 0.6108 loss: 1.5290843850374223"
   ]
  },
  {
   "cell_type": "code",
   "execution_count": 8,
   "metadata": {},
   "outputs": [
    {
     "ename": "SyntaxError",
     "evalue": "invalid syntax (<ipython-input-8-27074af4ebfc>, line 1)",
     "output_type": "error",
     "traceback": [
      "\u001b[0;36m  File \u001b[0;32m\"<ipython-input-8-27074af4ebfc>\"\u001b[0;36m, line \u001b[0;32m1\u001b[0m\n\u001b[0;31m    INFO:root:train loss epoch: 99 iter: 390 loss:0.20535025000572205 grad_norm: 3.684142511069177 acc: 0.9375\u001b[0m\n\u001b[0m             ^\u001b[0m\n\u001b[0;31mSyntaxError\u001b[0m\u001b[0;31m:\u001b[0m invalid syntax\n"
     ]
    }
   ],
   "source": [
    "INFO:root:train loss epoch: 99 iter: 390 loss:0.20535025000572205 grad_norm: 3.684142511069177 acc: 0.9375\n",
    "INFO:root:Test metric acc: 0.6391 loss: 1.3510784006118775"
   ]
  },
  {
   "cell_type": "code",
   "execution_count": 9,
   "metadata": {},
   "outputs": [
    {
     "ename": "SyntaxError",
     "evalue": "invalid syntax (<ipython-input-9-5b616de575a4>, line 1)",
     "output_type": "error",
     "traceback": [
      "\u001b[0;36m  File \u001b[0;32m\"<ipython-input-9-5b616de575a4>\"\u001b[0;36m, line \u001b[0;32m1\u001b[0m\n\u001b[0;31m    INFO:root:train loss epoch: 99 iter: 390 loss:0.2836337089538574 grad_norm: 5.300793375984492 acc: 0.9\u001b[0m\n\u001b[0m             ^\u001b[0m\n\u001b[0;31mSyntaxError\u001b[0m\u001b[0;31m:\u001b[0m invalid syntax\n"
     ]
    }
   ],
   "source": [
    "INFO:root:train loss epoch: 99 iter: 390 loss:0.2836337089538574 grad_norm: 5.300793375984492 acc: 0.9\n",
    "INFO:root:Test metric acc: 0.6114 loss: 1.6074440866708755"
   ]
  },
  {
   "cell_type": "code",
   "execution_count": null,
   "metadata": {},
   "outputs": [],
   "source": []
  }
 ],
 "metadata": {
  "kernelspec": {
   "display_name": "Python 3",
   "language": "python",
   "name": "python3"
  },
  "language_info": {
   "codemirror_mode": {
    "name": "ipython",
    "version": 3
   },
   "file_extension": ".py",
   "mimetype": "text/x-python",
   "name": "python",
   "nbconvert_exporter": "python",
   "pygments_lexer": "ipython3",
   "version": "3.7.0"
  }
 },
 "nbformat": 4,
 "nbformat_minor": 2
}

{
 "cells": [
  {
   "cell_type": "code",
   "execution_count": 1,
   "metadata": {},
   "outputs": [],
   "source": [
    "%load_ext autoreload\n",
    "%autoreload 2\n",
    "import sys\n",
    "sys.path.append(\"../utils/\")\n",
    "# from res_processing_utils import get_ave_metric, running_mean\n",
    "from res_processing_utils import *\n",
    "import matplotlib\n",
    "import numpy as np\n",
    "import matplotlib.pyplot as plt\n",
    "%matplotlib inline \n",
    "from plot_utils import save_csv"
   ]
  },
  {
   "cell_type": "code",
   "execution_count": 2,
   "metadata": {},
   "outputs": [],
   "source": [
    "top_directory = \"/dfs/scratch0/zjian/floating_halp/exp_res/logreg_hyper_sweep_2018_nov_17/\"\n",
    "pattern = \"opt_sgd_momentum_0.0_lr_0.01_l2_reg_0.0005_\"\n",
    "train_loss = get_ave_metric(pattern, top_directory, seed_list=[1,2,3], metric=\"train_loss\")\n",
    "test_loss = get_ave_metric(pattern, top_directory, seed_list=[1,2,3], metric=\"test_loss\")\n",
    "test_acc = get_ave_metric(pattern, top_directory, seed_list=[1,2,3], metric=\"test_acc\")\n",
    "grad_norm = get_ave_metric(pattern, top_directory, seed_list=[1,2,3], metric=\"grad_norm\")"
   ]
  },
  {
   "cell_type": "code",
   "execution_count": 3,
   "metadata": {},
   "outputs": [
    {
     "data": {
      "text/plain": [
       "((60000,), (100,), (100,), (60000,))"
      ]
     },
     "execution_count": 3,
     "metadata": {},
     "output_type": "execute_result"
    }
   ],
   "source": [
    "train_loss.shape, test_loss.shape, test_acc.shape, grad_norm.shape"
   ]
  },
  {
   "cell_type": "code",
   "execution_count": 4,
   "metadata": {},
   "outputs": [
    {
     "data": {
      "text/plain": [
       "(0.32927932268381116,\n",
       " 0.3103491183593869,\n",
       " 0.9214333333333333,\n",
       " 0.3436193296670582)"
      ]
     },
     "execution_count": 4,
     "metadata": {},
     "output_type": "execute_result"
    }
   ],
   "source": [
    "train_loss[-1], test_loss[-1], test_acc[-1], grad_norm[-1]"
   ]
  },
  {
   "cell_type": "code",
   "execution_count": 5,
   "metadata": {},
   "outputs": [],
   "source": [
    "def get_config_with_best_test_acc(top_directory, pattern_list, seed_list=[1, 2, 3], cut_off_epoch=100, total_epoch=100):\n",
    "    best_test_acc = 0.0\n",
    "    best_config = \"\"\n",
    "    best_acc_epoch_id = 0\n",
    "    for pattern in pattern_list:\n",
    "        ave_acc = None\n",
    "        for seed in seed_list:\n",
    "            dir = pattern + \"seed_\" + str(seed)\n",
    "            if not os.path.exists(top_directory + \"/\" + dir + \"/run.log\"):\n",
    "                print(top_directory + \"/\" + dir + \"/run.log missing!\" )\n",
    "                continue\n",
    "            acc = get_test_acc(top_directory + \"/\" + dir + \"/run.log\")\n",
    "            if len(acc) == 0:\n",
    "                print(top_directory + \"/\" + dir + \"/run.log has 0 test accuracy record\" )\n",
    "                continue\n",
    "            if ave_acc is None:\n",
    "                ave_acc = np.array(acc)\n",
    "            else:\n",
    "                ave_acc += np.array(acc)\n",
    "        ave_acc /= len(seed_list)\n",
    "        assert cut_off_epoch <= total_epoch\n",
    "        ave_acc = ave_acc[:cut_off_epoch]\n",
    "        if np.max(ave_acc) > best_test_acc:\n",
    "            best_test_acc = np.max(ave_acc)\n",
    "            best_test_acc_full = ave_acc\n",
    "            best_config = pattern\n",
    "            best_acc_epoch_id = np.argmax(ave_acc)\n",
    "    print(\"best test acc and config \", best_test_acc, best_acc_epoch_id, best_config)\n",
    "    return (best_test_acc_full, best_acc_epoch_id, best_test_acc, best_config)"
   ]
  },
  {
   "cell_type": "code",
   "execution_count": 6,
   "metadata": {},
   "outputs": [],
   "source": [
    "def get_config_with_best_train_loss(top_directory, pattern_list, seed_list=[1, 2, 3], win_width=1000, cut_off_epoch=100, total_epoch=100):\n",
    "        best_train_loss = np.finfo(dtype=np.float64).max \n",
    "        best_config = \"\"\n",
    "        best_loss_epoch_id = 0\n",
    "        for pattern in pattern_list:\n",
    "                ave_loss = None\n",
    "                try:\n",
    "                    for seed in seed_list:\n",
    "                            #print(pattern, seed)\n",
    "                            dir = pattern + \"seed_\" + str(seed)\n",
    "                            if not os.path.exists(top_directory + \"/\" + dir + \"/run.log\"):\n",
    "                                    print(top_directory + \"/\" + dir + \"/run.log missing!\" )\n",
    "                                    continue\n",
    "                            loss = get_train_loss(top_directory + \"/\" + dir + \"/run.log\")\n",
    "                            if len(loss) == 0:\n",
    "                                    print(top_directory + \"/\" + dir + \"/run.log has 0 train loss record\" )\n",
    "                                    continue\n",
    "                            if ave_loss is None:\n",
    "                                     ave_loss = np.array(loss)\n",
    "                            else:\n",
    "                                     ave_loss += np.array(loss)\n",
    "                    ave_loss /= len(seed_list)\n",
    "                    assert cut_off_epoch <= total_epoch\n",
    "                    iter_thresh = ave_loss.size * cut_off_epoch // total_epoch\n",
    "                    ave_loss = ave_loss[:iter_thresh]\n",
    "                    ave_loss = running_mean(ave_loss, N=win_width)\n",
    "                    #print(pattern, np.min(ave_loss))\n",
    "                    if np.min(ave_loss) <  best_train_loss:\n",
    "                            best_train_loss = np.min(ave_loss)\n",
    "                            best_train_loss_full = ave_loss\n",
    "                            best_config = pattern\n",
    "                            best_loss_epoch_id = np.argmin(ave_loss)\n",
    "                except:\n",
    "                        continue\n",
    "        print(\"best train loss and config \", best_train_loss, best_loss_epoch_id, best_config)\n",
    "        return (best_train_loss_full, best_loss_epoch_id, best_train_loss, best_config)"
   ]
  },
  {
   "cell_type": "code",
   "execution_count": 17,
   "metadata": {},
   "outputs": [],
   "source": [
    "def plot_test_acc(label_list, test_acc_list, x=None, ylim=[None, None]):\n",
    "    plt.figure()\n",
    "    data_list = []\n",
    "    for test_acc, label in zip(test_acc_list, label_list):\n",
    "        data_list.append((label, np.arange(test_acc.size) + 1, test_acc))\n",
    "        if x is not None:\n",
    "            plt.plot(x, test_acc, label=label)\n",
    "        else:\n",
    "            plt.plot(test_acc, label=label)\n",
    "    plt.legend(loc=\"lower right\")\n",
    "    plt.ylim([0.6, 0.65])\n",
    "    # plt.xlim([None, 60])\n",
    "    plt.xlabel(\"Epoch\")\n",
    "    plt.ylabel(\"Test accuracy\")\n",
    "    plt.title(\"CIFAR10 (LeNet)\")\n",
    "    plt.grid()\n",
    "    plt.show()\n",
    "#     save_csv(data_list, file_name=\"./workspace/lenet_test_acc_all.csv\")\n",
    "\n",
    "    plt.figure()\n",
    "    data_list = []\n",
    "    for test_acc, label in zip(test_acc_list, label_list):\n",
    "        data_list.append((label, np.arange(test_acc.size) + 1, np.maximum.accumulate(test_acc)))\n",
    "        if x is not None:\n",
    "            plt.plot(x, np.maximum.accumulate(test_acc), label=label)\n",
    "        else:\n",
    "            plt.plot(np.maximum.accumulate(test_acc), label=label)\n",
    "    plt.legend(loc=\"lower right\")\n",
    "    plt.ylim(ylim)\n",
    "    # plt.xlim([None, 60])\n",
    "    plt.xlabel(\"Epoch\")\n",
    "    plt.ylabel(\"Test accuracy\")\n",
    "    plt.title(\"CIFAR10 (LeNet)\")\n",
    "    plt.grid()\n",
    "    plt.show()\n",
    "#     save_csv(data_list, file_name=\"./workspace/lenet_test_acc_all.csv\")\n",
    "\n",
    "\n",
    "def plot_train_loss(label_list, train_loss_list, ylim=[None, None]):\n",
    "    plt.figure()\n",
    "    data_list = []\n",
    "    for train_loss, label in zip(train_loss_list, label_list):\n",
    "        data_list.append((label, np.arange(train_loss.size) + 1, train_loss))\n",
    "        plt.plot(train_loss, label=label)\n",
    "    plt.legend()\n",
    "    plt.ylim(ylim)\n",
    "    plt.xlabel(\"Iterations\")\n",
    "    plt.ylabel(\"Training loss\")\n",
    "    plt.title(\"CIFAR10 (LeNet)\")\n",
    "    plt.grid()\n",
    "    plt.show()\n",
    "#     save_csv(data_list, file_name=\"./workspace/lenet_train_loss_all.csv\")"
   ]
  },
  {
   "cell_type": "markdown",
   "metadata": {},
   "source": [
    "## overall report"
   ]
  },
  {
   "cell_type": "code",
   "execution_count": 27,
   "metadata": {},
   "outputs": [],
   "source": [
    "def plot_best_config_fixed_epochs(cut_off_epoch=100, total_epoch=100, win_width=1000, top_directory = \"/dfs/scratch0/zjian/floating_halp/exp_res/lenet_hyper_sweep_2018_nov_17/\"):\n",
    "    pattern_list_array = [ [\"_bc-svrg\"], [\"_lp-svrg\"], [\"_svrg\"], [\"_bc-sgd\"], [\"_lp-sgd\"], [\"_sgd\"]]\n",
    "    plot_label_list = [\"halp\", \"fp16 lp-svrg\", \"fp32 svrg\", \"fp16 bc-sgd\", \"fp16 lp-sgd\", \"fp32 sgd\"]\n",
    "#     top_directory = \"/dfs/scratch0/zjian/floating_halp/exp_res/lenet_hyper_sweep_2018_nov_17/\"\n",
    "    all_directories = get_immediate_subdirectories(top_directory)\n",
    "    all_directories = get_subdirectories_patterns_without_seed(all_directories)\n",
    "\n",
    "    best_train_loss_list = []\n",
    "    best_test_acc_list = []\n",
    "    best_train_loss_config_list = []\n",
    "    best_test_acc_config_list = []\n",
    "    for pattern_list in pattern_list_array:\n",
    "        print(\"\\n\")\n",
    "        print(pattern_list)\n",
    "        dir_list = filter_directory_names(all_directories, pattern_list)\n",
    "        res = get_config_with_best_test_acc(top_directory, dir_list, cut_off_epoch=cut_off_epoch, total_epoch=total_epoch)\n",
    "        best_test_acc_list.append(res[0])\n",
    "        best_test_acc_config_list.append(res[1])\n",
    "        res = get_config_with_best_train_loss(top_directory, dir_list, win_width=win_width, cut_off_epoch=cut_off_epoch, total_epoch=total_epoch)\n",
    "        best_train_loss_list.append(res[0])\n",
    "        best_train_loss_config_list.append(res[1])\n",
    "\n",
    "    plot_test_acc(pattern_list_array, best_test_acc_list)\n",
    "    plot_train_loss(pattern_list_array, best_train_loss_list)\n",
    "    return best_test_acc_list, best_train_loss_list, plot_label_list"
   ]
  },
  {
   "cell_type": "code",
   "execution_count": 28,
   "metadata": {},
   "outputs": [
    {
     "name": "stdout",
     "output_type": "stream",
     "text": [
      "\n",
      "\n",
      "['_bc-svrg']\n",
      "best test acc and config  0.9267666666666666 25 opt_bc-svrg_momentum_0.9_lr_0.05_l2_reg_1e-05_\n",
      "best train loss and config  0.22660304872279086 58706 opt_bc-svrg_momentum_0.9_lr_0.05_l2_reg_1e-05_\n",
      "\n",
      "\n",
      "['_lp-svrg']\n",
      "best test acc and config  0.9238333333333334 3 opt_lp-svrg_momentum_0.9_lr_0.05_l2_reg_1e-05_\n",
      "best train loss and config  0.2403301821039222 58106 opt_lp-svrg_momentum_0.0_lr_0.5_l2_reg_1e-05_\n",
      "\n",
      "\n",
      "['_svrg']\n",
      "best test acc and config  0.9268 62 opt_svrg_momentum_0.9_lr_0.05_l2_reg_1e-05_\n",
      "best train loss and config  0.22655917075430443 58706 opt_svrg_momentum_0.9_lr_0.05_l2_reg_1e-05_\n",
      "\n",
      "\n",
      "['_bc-sgd']\n",
      "best test acc and config  0.9264333333333333 76 opt_bc-sgd_momentum_0.9_lr_0.01_l2_reg_1e-05_\n",
      "best train loss and config  0.24218330606505334 58706 opt_bc-sgd_momentum_0.0_lr_0.5_l2_reg_1e-05_\n",
      "\n",
      "\n",
      "['_lp-sgd']\n",
      "best test acc and config  0.9249 87 opt_lp-sgd_momentum_0.9_lr_0.01_l2_reg_1e-05_\n",
      "best train loss and config  0.24265284339095888 58706 opt_lp-sgd_momentum_0.0_lr_0.5_l2_reg_1e-05_\n",
      "\n",
      "\n",
      "['_sgd']\n",
      "best test acc and config  0.9264 75 opt_sgd_momentum_0.9_lr_0.01_l2_reg_1e-05_\n",
      "best train loss and config  0.24222775660345724 58706 opt_sgd_momentum_0.0_lr_0.5_l2_reg_1e-05_\n"
     ]
    },
    {
     "data": {
      "image/png": "[encoded data removed]",
      "text/plain": [
       "<Figure size 432x288 with 1 Axes>"
      ]
     },
     "metadata": {
      "needs_background": "light"
     },
     "output_type": "display_data"
    },
    {
     "data": {
      "image/png": "[encoded data removed]",
      "text/plain": [
       "<Figure size 432x288 with 1 Axes>"
      ]
     },
     "metadata": {
      "needs_background": "light"
     },
     "output_type": "display_data"
    },
    {
     "data": {
      "image/png": "[encoded data removed]",
      "text/plain": [
       "<Figure size 432x288 with 1 Axes>"
      ]
     },
     "metadata": {
      "needs_background": "light"
     },
     "output_type": "display_data"
    }
   ],
   "source": [
    "best_test_acc_list, best_train_loss_list, plot_label_list = \\\n",
    "    plot_best_config_fixed_epochs(cut_off_epoch=100, \n",
    "                                 total_epoch=100, \n",
    "                                 win_width=1000,\n",
    "                                 top_directory = \"/dfs/scratch0/zjian/floating_halp/exp_res/logreg_hyper_sweep_2018_nov_17/\")"
   ]
  },
  {
   "cell_type": "code",
   "execution_count": 29,
   "metadata": {},
   "outputs": [],
   "source": [
    "import pandas as pd\n",
    "def save_csv(data_list, file_name=\"./test/test.xlsx\", ave_x=False):\n",
    "    '''\n",
    "    data is a list of tuple (label, x_pt, y_pt), it is plotted using color named as label in the color_dict.\n",
    "    x_pt is a 1d list, y_pt is list of list, each inner list is from a random seed.\n",
    "    '''\n",
    "    df_list = []\n",
    "    for i in range(len(data_list) ):\n",
    "        label = data_list[i][0]\n",
    "        x = data_list[i][1]\n",
    "        y = data_list[i][2]\n",
    "        df_list.append(pd.DataFrame(np.reshape(x, [x.size, 1] ), columns = [label] ) )\n",
    "        df_list.append(pd.DataFrame(np.reshape(y, [y.size, 1] ), columns = [label] ) )\n",
    "    pd.concat(df_list, axis=1).to_excel(file_name)"
   ]
  },
  {
   "cell_type": "code",
   "execution_count": 30,
   "metadata": {},
   "outputs": [],
   "source": [
    "data_list = [(name, np.arange(y.size) + 1, np.maximum.accumulate(y)) \\\n",
    "             for name, y in zip(plot_label_list, best_test_acc_list)]\n",
    "save_csv(data_list, \n",
    "         file_name=\"./data/logreg_test_acc_all.xlsx\")\n",
    "data_list = [(name, np.arange(y.size) + 1, y) \\\n",
    "             for name, y in zip(plot_label_list, best_train_loss_list)]\n",
    "save_csv(data_list, \n",
    "         file_name=\"./data/logreg_train_loss_all.xlsx\")"
   ]
  },
  {
   "cell_type": "code",
   "execution_count": 22,
   "metadata": {},
   "outputs": [],
   "source": [
    "def plot_best_config_multiple_epochs(ckpt_epochs, total_epoch=100, win_width=1000, top_directory = \"/dfs/scratch0/zjian/floating_halp/exp_res/lenet_hyper_sweep_2018_nov_17/\"):\n",
    "    pattern_list_array = [ [\"_bc-svrg\"], [\"_lp-svrg\"], [\"_svrg\"], [\"_bc-sgd\"], [\"_lp-sgd\"], [\"_sgd\"]]\n",
    "    plot_label_list = [\"halp\", \"fp16 lp-svrg\", \"fp32 svrg\", \"fp16 bc-sgd\", \"fp16 lp-sgd\", \"fp32 sgd\"]\n",
    "#     pattern_list_array = [ [\"_bc-svrg\"], [\"_lp-svrg\"]]\n",
    "#     plot_label_list = [\"halp\", \"fp16 lp-svrg\"]\n",
    "#     top_directory = \"/dfs/scratch0/zjian/floating_halp/exp_res/lenet_hyper_sweep_2018_nov_17/\"\n",
    "    all_directories = get_immediate_subdirectories(top_directory)\n",
    "    all_directories = get_subdirectories_patterns_without_seed(all_directories)\n",
    "\n",
    "    best_train_loss_list = []\n",
    "    best_test_acc_list = []\n",
    "    best_train_loss_config_list = []\n",
    "    best_test_acc_config_list = []\n",
    "    for pattern_list in pattern_list_array:\n",
    "        best_train_loss_list_single_type = []\n",
    "        best_test_acc_list_single_type = []\n",
    "        best_train_loss_config_list_single_type = []\n",
    "        best_test_acc_config_list_single_type = []\n",
    "        for ckpt_epoch in ckpt_epochs:\n",
    "            print(\"\\n\")\n",
    "            print(pattern_list, ckpt_epoch)\n",
    "            dir_list = filter_directory_names(all_directories, pattern_list)\n",
    "            res = get_config_with_best_test_acc(top_directory, dir_list, cut_off_epoch=ckpt_epoch, total_epoch=total_epoch)\n",
    "            best_test_acc_list_single_type.append(res[2])\n",
    "            best_test_acc_config_list_single_type.append(res[1])\n",
    "            res = get_config_with_best_train_loss(top_directory, dir_list, win_width=win_width, cut_off_epoch=ckpt_epoch, total_epoch=total_epoch)\n",
    "            best_train_loss_list_single_type.append(res[2])\n",
    "            best_train_loss_config_list_single_type.append(res[1])\n",
    "        best_test_acc_list.append(np.array(best_test_acc_list_single_type))\n",
    "        best_train_loss_list.append(np.array(best_train_loss_list_single_type))\n",
    "\n",
    "    plot_test_acc(pattern_list_array, best_test_acc_list, x=ckpt_epochs)\n",
    "    plot_train_loss(pattern_list_array, best_train_loss_list)\n",
    "    return ckpt_epochs, best_train_loss_list, best_test_acc_list "
   ]
  },
  {
   "cell_type": "code",
   "execution_count": 23,
   "metadata": {
    "scrolled": false
   },
   "outputs": [
    {
     "name": "stdout",
     "output_type": "stream",
     "text": [
      "\n",
      "\n",
      "['_bc-svrg'] 3\n",
      "best test acc and config  0.9219333333333332 2 opt_bc-svrg_momentum_0.9_lr_0.05_l2_reg_1e-05_\n",
      "best train loss and config  0.2817806719072933 796 opt_bc-svrg_momentum_0.9_lr_0.05_l2_reg_1e-05_\n",
      "\n",
      "\n",
      "['_bc-svrg'] 5\n",
      "best test acc and config  0.9242333333333334 3 opt_bc-svrg_momentum_0.9_lr_0.05_l2_reg_1e-05_\n",
      "best train loss and config  0.26047026570456283 1744 opt_bc-svrg_momentum_0.9_lr_0.1_l2_reg_1e-05_\n",
      "\n",
      "\n",
      "['_bc-svrg'] 10\n",
      "best test acc and config  0.9255666666666666 9 opt_bc-svrg_momentum_0.9_lr_0.05_l2_reg_1e-05_\n",
      "best train loss and config  0.24924836906556858 4706 opt_bc-svrg_momentum_0.9_lr_0.05_l2_reg_1e-05_\n",
      "\n",
      "\n",
      "['_bc-svrg'] 15\n",
      "best test acc and config  0.9259666666666666 14 opt_bc-svrg_momentum_0.9_lr_0.05_l2_reg_1e-05_\n",
      "best train loss and config  0.24317532787012533 7706 opt_bc-svrg_momentum_0.9_lr_0.05_l2_reg_1e-05_\n",
      "\n",
      "\n",
      "['_bc-svrg'] 20\n",
      "best test acc and config  0.9262 18 opt_bc-svrg_momentum_0.9_lr_0.05_l2_reg_1e-05_\n",
      "best train loss and config  0.23949795970737206 10706 opt_bc-svrg_momentum_0.9_lr_0.05_l2_reg_1e-05_\n",
      "\n",
      "\n",
      "['_bc-svrg'] 30\n",
      "best test acc and config  0.9267666666666666 25 opt_bc-svrg_momentum_0.9_lr_0.05_l2_reg_1e-05_\n",
      "best train loss and config  0.23508574013100042 16706 opt_bc-svrg_momentum_0.9_lr_0.05_l2_reg_1e-05_\n",
      "\n",
      "\n",
      "['_bc-svrg'] 50\n",
      "best test acc and config  0.9267666666666666 25 opt_bc-svrg_momentum_0.9_lr_0.05_l2_reg_1e-05_\n",
      "best train loss and config  0.23068460970231627 28706 opt_bc-svrg_momentum_0.9_lr_0.05_l2_reg_1e-05_\n",
      "\n",
      "\n",
      "['_bc-svrg'] 100\n",
      "best test acc and config  0.9267666666666666 25 opt_bc-svrg_momentum_0.9_lr_0.05_l2_reg_1e-05_\n",
      "best train loss and config  0.22660304872279086 58706 opt_bc-svrg_momentum_0.9_lr_0.05_l2_reg_1e-05_\n",
      "\n",
      "\n",
      "['_lp-svrg'] 3\n",
      "best test acc and config  0.9218666666666667 2 opt_lp-svrg_momentum_0.9_lr_0.05_l2_reg_1e-05_\n",
      "best train loss and config  0.2820201732703416 796 opt_lp-svrg_momentum_0.9_lr_0.05_l2_reg_1e-05_\n",
      "\n",
      "\n",
      "['_lp-svrg'] 5\n",
      "best test acc and config  0.9238333333333334 3 opt_lp-svrg_momentum_0.9_lr_0.05_l2_reg_1e-05_\n",
      "best train loss and config  0.26088871961165705 1744 opt_lp-svrg_momentum_0.9_lr_0.1_l2_reg_1e-05_\n",
      "\n",
      "\n",
      "['_lp-svrg'] 10\n",
      "best test acc and config  0.9238333333333334 3 opt_lp-svrg_momentum_0.9_lr_0.05_l2_reg_1e-05_\n",
      "best train loss and config  0.25902207542895506 2306 opt_lp-svrg_momentum_0.9_lr_0.1_l2_reg_1e-05_\n",
      "\n",
      "\n",
      "['_lp-svrg'] 15\n",
      "best test acc and config  0.9238333333333334 3 opt_lp-svrg_momentum_0.9_lr_0.05_l2_reg_1e-05_\n",
      "best train loss and config  0.25520603677046755 7706 opt_lp-svrg_momentum_0.0_lr_0.5_l2_reg_1e-05_\n",
      "\n",
      "\n",
      "['_lp-svrg'] 20\n",
      "best test acc and config  0.9238333333333334 3 opt_lp-svrg_momentum_0.9_lr_0.05_l2_reg_1e-05_\n",
      "best train loss and config  0.2525826544304441 10706 opt_lp-svrg_momentum_0.0_lr_0.5_l2_reg_1e-05_\n",
      "\n",
      "\n",
      "['_lp-svrg'] 30\n",
      "best test acc and config  0.9238333333333334 3 opt_lp-svrg_momentum_0.9_lr_0.05_l2_reg_1e-05_\n",
      "best train loss and config  0.24905540557221412 16106 opt_lp-svrg_momentum_0.0_lr_0.5_l2_reg_1e-05_\n",
      "\n",
      "\n",
      "['_lp-svrg'] 50\n",
      "best test acc and config  0.9238333333333334 3 opt_lp-svrg_momentum_0.9_lr_0.05_l2_reg_1e-05_\n",
      "best train loss and config  0.24520811196731573 28106 opt_lp-svrg_momentum_0.0_lr_0.5_l2_reg_1e-05_\n",
      "\n",
      "\n",
      "['_lp-svrg'] 100\n",
      "best test acc and config  0.9238333333333334 3 opt_lp-svrg_momentum_0.9_lr_0.05_l2_reg_1e-05_\n",
      "best train loss and config  0.2403301821039222 58106 opt_lp-svrg_momentum_0.0_lr_0.5_l2_reg_1e-05_\n",
      "\n",
      "\n",
      "['_svrg'] 3\n",
      "best test acc and config  0.922 2 opt_svrg_momentum_0.9_lr_0.05_l2_reg_1e-05_\n",
      "best train loss and config  0.2817983896542082 796 opt_svrg_momentum_0.9_lr_0.05_l2_reg_1e-05_\n",
      "\n",
      "\n",
      "['_svrg'] 5\n",
      "best test acc and config  0.9241333333333334 3 opt_svrg_momentum_0.9_lr_0.05_l2_reg_1e-05_\n",
      "best train loss and config  0.2604157516704057 1744 opt_svrg_momentum_0.9_lr_0.1_l2_reg_1e-05_\n",
      "\n",
      "\n",
      "['_svrg'] 10\n",
      "best test acc and config  0.9255666666666666 9 opt_svrg_momentum_0.9_lr_0.05_l2_reg_1e-05_\n",
      "best train loss and config  0.24923224415915252 4706 opt_svrg_momentum_0.9_lr_0.05_l2_reg_1e-05_\n",
      "\n",
      "\n",
      "['_svrg'] 15\n",
      "best test acc and config  0.9259333333333334 14 opt_svrg_momentum_0.9_lr_0.05_l2_reg_1e-05_\n",
      "best train loss and config  0.24315675406406762 7706 opt_svrg_momentum_0.9_lr_0.05_l2_reg_1e-05_\n",
      "\n",
      "\n",
      "['_svrg'] 20\n",
      "best test acc and config  0.9261666666666667 17 opt_svrg_momentum_0.9_lr_0.05_l2_reg_1e-05_\n",
      "best train loss and config  0.23947751546644577 10706 opt_svrg_momentum_0.9_lr_0.05_l2_reg_1e-05_\n",
      "\n",
      "\n",
      "['_svrg'] 30\n",
      "best test acc and config  0.9267666666666666 24 opt_svrg_momentum_0.9_lr_0.05_l2_reg_1e-05_\n",
      "best train loss and config  0.2350574986427 16706 opt_svrg_momentum_0.9_lr_0.05_l2_reg_1e-05_\n",
      "\n",
      "\n",
      "['_svrg'] 50\n",
      "best test acc and config  0.9267666666666666 24 opt_svrg_momentum_0.9_lr_0.05_l2_reg_1e-05_\n",
      "best train loss and config  0.2306432992811715 28706 opt_svrg_momentum_0.9_lr_0.05_l2_reg_1e-05_\n",
      "\n",
      "\n",
      "['_svrg'] 100\n",
      "best test acc and config  0.9268 62 opt_svrg_momentum_0.9_lr_0.05_l2_reg_1e-05_\n",
      "best train loss and config  0.22655917075430443 58706 opt_svrg_momentum_0.9_lr_0.05_l2_reg_1e-05_\n",
      "\n",
      "\n",
      "['_bc-sgd'] 3\n",
      "best test acc and config  0.9152666666666667 2 opt_bc-sgd_momentum_0.9_lr_0.01_l2_reg_5e-05_\n",
      "best train loss and config  0.298113328768075 796 opt_bc-sgd_momentum_0.0_lr_0.5_l2_reg_1e-05_\n",
      "\n",
      "\n",
      "['_bc-sgd'] 5\n",
      "best test acc and config  0.9182 4 opt_bc-sgd_momentum_0.9_lr_0.01_l2_reg_1e-05_\n",
      "best train loss and config  0.2813274263587448 1767 opt_bc-sgd_momentum_0.0_lr_0.5_l2_reg_1e-05_\n",
      "\n",
      "\n",
      "['_bc-sgd'] 10\n",
      "best test acc and config  0.9218000000000001 9 opt_bc-sgd_momentum_0.9_lr_0.01_l2_reg_0.0001_\n",
      "best train loss and config  0.26620367882463186 4706 opt_bc-sgd_momentum_0.0_lr_0.5_l2_reg_1e-05_\n",
      "\n",
      "\n",
      "['_bc-sgd'] 15\n",
      "best test acc and config  0.9232999999999999 14 opt_bc-sgd_momentum_0.9_lr_0.01_l2_reg_5e-05_\n",
      "best train loss and config  0.2596952950546606 7706 opt_bc-sgd_momentum_0.0_lr_0.5_l2_reg_1e-05_\n",
      "\n",
      "\n",
      "['_bc-sgd'] 20\n",
      "best test acc and config  0.9232999999999999 14 opt_bc-sgd_momentum_0.9_lr_0.01_l2_reg_5e-05_\n",
      "best train loss and config  0.25576790788537485 10706 opt_bc-sgd_momentum_0.0_lr_0.5_l2_reg_1e-05_\n",
      "\n",
      "\n",
      "['_bc-sgd'] 30\n",
      "best test acc and config  0.9239333333333333 29 opt_bc-sgd_momentum_0.9_lr_0.01_l2_reg_0.0001_\n",
      "best train loss and config  0.25106766263729785 16706 opt_bc-sgd_momentum_0.0_lr_0.5_l2_reg_1e-05_\n",
      "\n",
      "\n",
      "['_bc-sgd'] 50\n",
      "best test acc and config  0.9260999999999999 47 opt_bc-sgd_momentum_0.9_lr_0.01_l2_reg_1e-05_\n",
      "best train loss and config  0.2464305981291218 28706 opt_bc-sgd_momentum_0.0_lr_0.5_l2_reg_1e-05_\n",
      "\n",
      "\n",
      "['_bc-sgd'] 100\n",
      "best test acc and config  0.9264333333333333 76 opt_bc-sgd_momentum_0.9_lr_0.01_l2_reg_1e-05_\n",
      "best train loss and config  0.24218330606505334 58706 opt_bc-sgd_momentum_0.0_lr_0.5_l2_reg_1e-05_\n",
      "\n",
      "\n",
      "['_lp-sgd'] 3\n",
      "best test acc and config  0.9152666666666667 2 opt_lp-sgd_momentum_0.9_lr_0.01_l2_reg_1e-05_\n",
      "best train loss and config  0.29827888611360537 796 opt_lp-sgd_momentum_0.0_lr_0.5_l2_reg_1e-05_\n",
      "\n",
      "\n",
      "['_lp-sgd'] 5\n",
      "best test acc and config  0.9178666666666667 4 opt_lp-sgd_momentum_0.9_lr_0.01_l2_reg_1e-05_\n",
      "best train loss and config  0.2815779617261302 1767 opt_lp-sgd_momentum_0.0_lr_0.5_l2_reg_1e-05_\n",
      "\n",
      "\n",
      "['_lp-sgd'] 10\n",
      "best test acc and config  0.9211666666666667 9 opt_lp-sgd_momentum_0.9_lr_0.01_l2_reg_0.0001_\n",
      "best train loss and config  0.2664896787452237 4706 opt_lp-sgd_momentum_0.0_lr_0.5_l2_reg_1e-05_\n",
      "\n",
      "\n",
      "['_lp-sgd'] 15\n",
      "best test acc and config  0.9216666666666667 14 opt_lp-sgd_momentum_0.9_lr_0.01_l2_reg_1e-05_\n",
      "best train loss and config  0.259973081615502 7706 opt_lp-sgd_momentum_0.0_lr_0.5_l2_reg_1e-05_\n",
      "\n",
      "\n",
      "['_lp-sgd'] 20\n",
      "best test acc and config  0.9219333333333334 17 opt_lp-sgd_momentum_0.0_lr_0.1_l2_reg_0.0001_\n",
      "best train loss and config  0.25606441780787326 10706 opt_lp-sgd_momentum_0.0_lr_0.5_l2_reg_1e-05_\n",
      "\n",
      "\n",
      "['_lp-sgd'] 30\n",
      "best test acc and config  0.9221333333333334 26 opt_lp-sgd_momentum_0.9_lr_0.01_l2_reg_5e-05_\n",
      "best train loss and config  0.2513122688258609 16706 opt_lp-sgd_momentum_0.0_lr_0.5_l2_reg_1e-05_\n",
      "\n",
      "\n",
      "['_lp-sgd'] 50\n",
      "best test acc and config  0.9238666666666666 49 opt_lp-sgd_momentum_0.0_lr_0.1_l2_reg_5e-05_\n",
      "best train loss and config  0.2465894054008304 28706 opt_lp-sgd_momentum_0.0_lr_0.5_l2_reg_1e-05_\n",
      "\n",
      "\n",
      "['_lp-sgd'] 100\n",
      "best test acc and config  0.9249 87 opt_lp-sgd_momentum_0.9_lr_0.01_l2_reg_1e-05_\n",
      "best train loss and config  0.24265284339095888 58706 opt_lp-sgd_momentum_0.0_lr_0.5_l2_reg_1e-05_\n",
      "\n",
      "\n",
      "['_sgd'] 3\n"
     ]
    },
    {
     "name": "stdout",
     "output_type": "stream",
     "text": [
      "best test acc and config  0.9153333333333333 2 opt_sgd_momentum_0.9_lr_0.01_l2_reg_1e-05_\n",
      "best train loss and config  0.29808932806624183 796 opt_sgd_momentum_0.0_lr_0.5_l2_reg_1e-05_\n",
      "\n",
      "\n",
      "['_sgd'] 5\n",
      "best test acc and config  0.9181333333333334 4 opt_sgd_momentum_0.9_lr_0.01_l2_reg_5e-05_\n",
      "best train loss and config  0.2813305679236898 1767 opt_sgd_momentum_0.0_lr_0.5_l2_reg_1e-05_\n",
      "\n",
      "\n",
      "['_sgd'] 10\n",
      "best test acc and config  0.9218333333333333 9 opt_sgd_momentum_0.9_lr_0.01_l2_reg_0.0001_\n",
      "best train loss and config  0.26625361995907976 4706 opt_sgd_momentum_0.0_lr_0.5_l2_reg_1e-05_\n",
      "\n",
      "\n",
      "['_sgd'] 15\n",
      "best test acc and config  0.9232999999999999 14 opt_sgd_momentum_0.9_lr_0.01_l2_reg_5e-05_\n",
      "best train loss and config  0.25977194727614233 7706 opt_sgd_momentum_0.0_lr_0.5_l2_reg_1e-05_\n",
      "\n",
      "\n",
      "['_sgd'] 20\n",
      "best test acc and config  0.9232999999999999 14 opt_sgd_momentum_0.9_lr_0.01_l2_reg_5e-05_\n",
      "best train loss and config  0.2558663611963248 10706 opt_sgd_momentum_0.0_lr_0.5_l2_reg_1e-05_\n",
      "\n",
      "\n",
      "['_sgd'] 30\n",
      "best test acc and config  0.9238666666666667 29 opt_sgd_momentum_0.9_lr_0.01_l2_reg_0.0001_\n",
      "best train loss and config  0.2511841610450683 16706 opt_sgd_momentum_0.0_lr_0.5_l2_reg_1e-05_\n",
      "\n",
      "\n",
      "['_sgd'] 50\n",
      "best test acc and config  0.9260999999999999 46 opt_sgd_momentum_0.9_lr_0.01_l2_reg_1e-05_\n",
      "best train loss and config  0.2465226875463468 28706 opt_sgd_momentum_0.0_lr_0.5_l2_reg_1e-05_\n",
      "\n",
      "\n",
      "['_sgd'] 100\n",
      "best test acc and config  0.9264 75 opt_sgd_momentum_0.9_lr_0.01_l2_reg_1e-05_\n",
      "best train loss and config  0.24222775660345724 58706 opt_sgd_momentum_0.0_lr_0.5_l2_reg_1e-05_\n"
     ]
    },
    {
     "data": {
      "image/png": "[encoded data removed]",
      "text/plain": [
       "<Figure size 432x288 with 1 Axes>"
      ]
     },
     "metadata": {
      "needs_background": "light"
     },
     "output_type": "display_data"
    },
    {
     "data": {
      "image/png": "[encoded data removed]",
      "text/plain": [
       "<Figure size 432x288 with 1 Axes>"
      ]
     },
     "metadata": {
      "needs_background": "light"
     },
     "output_type": "display_data"
    },
    {
     "data": {
      "image/png": "[encoded data removed]",
      "text/plain": [
       "<Figure size 432x288 with 1 Axes>"
      ]
     },
     "metadata": {
      "needs_background": "light"
     },
     "output_type": "display_data"
    }
   ],
   "source": [
    "# ckpt_epochs = np.arange(10, 101, 30)\n",
    "ckpt_epochs = np.array([3, 5, 10, 15, 20, 30, 50, 100])\n",
    "_, best_train_loss_list, best_test_acc_list = plot_best_config_multiple_epochs(ckpt_epochs, \n",
    "                                                                               total_epoch=100, \n",
    "                                                                               win_width=1000, \n",
    "                                                                               top_directory = \"/dfs/scratch0/zjian/floating_halp/exp_res/logreg_hyper_sweep_2018_nov_17/\")\n"
   ]
  },
  {
   "cell_type": "code",
   "execution_count": 26,
   "metadata": {},
   "outputs": [],
   "source": [
    "data_list = [(name, ckpt_epochs, np.maximum.accumulate(y)) \\\n",
    "             for name, y in zip(plot_label_list, best_test_acc_list)]\n",
    "save_csv(data_list, \n",
    "         file_name=\"./data/logreg_test_acc_all_temporal.xlsx\")\n",
    "data_list = [(name, ckpt_epochs, y) \\\n",
    "             for name, y in zip(plot_label_list, best_train_loss_list)]\n",
    "save_csv(data_list, \n",
    "         file_name=\"./data/logreg_train_loss_all.xlsx\")"
   ]
  },
  {
   "cell_type": "code",
   "execution_count": null,
   "metadata": {},
   "outputs": [],
   "source": []
  },
  {
   "cell_type": "code",
   "execution_count": null,
   "metadata": {},
   "outputs": [],
   "source": []
  },
  {
   "cell_type": "code",
   "execution_count": null,
   "metadata": {},
   "outputs": [],
   "source": []
  },
  {
   "cell_type": "code",
   "execution_count": null,
   "metadata": {},
   "outputs": [],
   "source": []
  },
  {
   "cell_type": "code",
   "execution_count": null,
   "metadata": {},
   "outputs": [],
   "source": []
  },
  {
   "cell_type": "code",
   "execution_count": null,
   "metadata": {},
   "outputs": [],
   "source": []
  },
  {
   "cell_type": "code",
   "execution_count": null,
   "metadata": {},
   "outputs": [],
   "source": []
  },
  {
   "cell_type": "code",
   "execution_count": null,
   "metadata": {},
   "outputs": [],
   "source": []
  },
  {
   "cell_type": "code",
   "execution_count": null,
   "metadata": {},
   "outputs": [],
   "source": []
  },
  {
   "cell_type": "code",
   "execution_count": null,
   "metadata": {},
   "outputs": [],
   "source": []
  },
  {
   "cell_type": "code",
   "execution_count": null,
   "metadata": {},
   "outputs": [],
   "source": []
  },
  {
   "cell_type": "code",
   "execution_count": null,
   "metadata": {},
   "outputs": [],
   "source": []
  },
  {
   "cell_type": "code",
   "execution_count": null,
   "metadata": {},
   "outputs": [],
   "source": []
  },
  {
   "cell_type": "code",
   "execution_count": null,
   "metadata": {},
   "outputs": [],
   "source": []
  },
  {
   "cell_type": "code",
   "execution_count": null,
   "metadata": {},
   "outputs": [],
   "source": []
  }
 ],
 "metadata": {
  "kernelspec": {
   "display_name": "Python 3",
   "language": "python",
   "name": "python3"
  },
  "language_info": {
   "codemirror_mode": {
    "name": "ipython",
    "version": 3
   },
   "file_extension": ".py",
   "mimetype": "text/x-python",
   "name": "python",
   "nbconvert_exporter": "python",
   "pygments_lexer": "ipython3",
   "version": "3.7.0"
  }
 },
 "nbformat": 4,
 "nbformat_minor": 2
}
